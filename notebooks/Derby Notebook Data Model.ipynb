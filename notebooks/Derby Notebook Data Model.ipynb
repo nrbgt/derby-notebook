{
 "cells": [
  {
   "cell_type": "markdown",
   "metadata": {},
   "source": [
    "# Derby Notebook Data Model"
   ]
  },
  {
   "cell_type": "markdown",
   "metadata": {},
   "source": [
    "<div class=\"mermaid\">graph LR\n",
    "    subgraph Legend\n",
    "        collection((collection))\n",
    "        object(object)\n",
    "        list[ordered list]\n",
    "        child_collection((child collection))\n",
    "        child_collection -. foreign key .-> collection\n",
    "        object-- binding --- collection\n",
    "    end\n",
    "    \n",
    "    subgraph URL /notebooks/\n",
    "        name(name)\n",
    "    end\n",
    "    \n",
    "    subgraph Collections in Mongo\n",
    "       notebooks((notebooks))\n",
    "       cells((cells))\n",
    "       userNotebooks((user<br>notebooks))\n",
    "       users((users))\n",
    "       messages((messages))\n",
    "    end\n",
    "    userNotebooks -.-> notebooks\n",
    "    userNotebooks -.-> users\n",
    "    cells -.-> notebooks\n",
    "    messages -.-> notebooks\n",
    "    messages -.-> users\n",
    "    \n",
    "    subgraph _page\n",
    "        notebook(notebook)\n",
    "        userNotebook(user notebook)\n",
    "        user(user)\n",
    "        p_cells[cells]\n",
    "        p_messages[messages]\n",
    "    end\n",
    "    \n",
    "    subgraph Notebook Query\n",
    "        nbq_name(name?)\n",
    "        nbq_notebook(notebook)\n",
    "        nbq_name --- nbq_notebook\n",
    "    end\n",
    "    \n",
    "    notebooks --- nbq_notebook\n",
    "    nbq_notebook --- notebook\n",
    "    name --- nbq_name\n",
    "    \n",
    "    \n",
    "    subgraph Cell Query\n",
    "        cq_notebook(notebook?)\n",
    "        cq_cells[cells]\n",
    "        weight(weight)\n",
    "        cq_notebook --- cq_cells\n",
    "        weight --- cq_cells\n",
    "    end\n",
    "    \n",
    "    nbq_notebook --- cq_notebook\n",
    "    \n",
    "    userNotebooks --- userNotebook\n",
    "    users --- user\n",
    "    cells --- cq_cells\n",
    "    cq_cells --- p_cells\n",
    "    messages --- p_messages\n",
    "    \n",
    "    subgraph Chat\n",
    "        chat_messages[messages]\n",
    "        new_message(new message)\n",
    "    end\n",
    "    p_messages --- chat_messages\n",
    "    \n",
    "    \n",
    "    subgraph Chat.Editor\n",
    "        ccm_source(source)\n",
    "    end\n",
    "    new_message --- ccm_source\n",
    "    \n",
    "    subgraph Chat.Markdown\n",
    "        cmd_source(source)\n",
    "    end\n",
    "    chat_messages --- cmd_source\n",
    "    \n",
    "    subgraph Notebook\n",
    "        nb_notebook(notebook)\n",
    "        nb_cells[cells]\n",
    "    end\n",
    "    p_cells --- nb_cells\n",
    "    \n",
    "    notebook --- nb_notebook\n",
    "    \n",
    "    subgraph CellComponent\n",
    "        cell(cell)\n",
    "        userCell(user cell)\n",
    "    end\n",
    "    nb_cells --- cell\n",
    "    userNotebook --- userCell\n",
    "    \n",
    "    subgraph Cell.Editor\n",
    "        cm_source(source)\n",
    "    end\n",
    "    \n",
    "    subgraph Cell.Markdown\n",
    "        md_source(source)\n",
    "    end\n",
    "    cell --- cm_source\n",
    "    cell --- md_source\n",
    "</div>"
   ]
  },
  {
   "cell_type": "code",
   "execution_count": 2,
   "metadata": {
    "collapsed": false
   },
   "outputs": [
    {
     "data": {
      "text/html": [
       "<style>@import url(\"./nb-mermaid/nb-mermaid.css\");</style>\n",
       "<script>require([\"nb-mermaid/nb-mermaid.js\"]);</script>"
      ],
      "text/plain": [
       "<IPython.core.display.HTML object>"
      ]
     },
     "metadata": {},
     "output_type": "display_data"
    }
   ],
   "source": [
    "%%html\n",
    "<style>@import url(\"./nb-mermaid/nb-mermaid.css\");</style>\n",
    "<script>require([\"nb-mermaid/nb-mermaid.js\"]);</script>"
   ]
  }
 ],
 "metadata": {
  "kernelspec": {
   "display_name": "Python 2",
   "language": "python",
   "name": "python2"
  },
  "language_info": {
   "codemirror_mode": {
    "name": "ipython",
    "version": 2
   },
   "file_extension": ".py",
   "mimetype": "text/x-python",
   "name": "python",
   "nbconvert_exporter": "python",
   "pygments_lexer": "ipython2",
   "version": "2.7.3"
  }
 },
 "nbformat": 4,
 "nbformat_minor": 0
}
